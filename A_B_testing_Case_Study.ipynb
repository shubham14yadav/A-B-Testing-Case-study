{
  "cells": [
    {
      "cell_type": "markdown",
      "metadata": {
        "id": "view-in-github",
        "colab_type": "text"
      },
      "source": [
        "<a href=\"https://colab.research.google.com/github/shubham14yadav/A-B-Testing-Case-study/blob/main/A_B_testing_Case_Study.ipynb\" target=\"_parent\"><img src=\"https://colab.research.google.com/assets/colab-badge.svg\" alt=\"Open In Colab\"/></a>"
      ]
    },
    {
      "cell_type": "markdown",
      "id": "3db188f0",
      "metadata": {
        "id": "3db188f0"
      },
      "source": [
        "# A/B testing at Vungle - case study"
      ]
    },
    {
      "cell_type": "code",
      "execution_count": null,
      "id": "9208bf65",
      "metadata": {
        "id": "9208bf65",
        "outputId": "f4e345ea-27c9-40f4-c8f7-6784b217354e"
      },
      "outputs": [
        {
          "data": {
            "text/html": [
              "<table class=\"dataframe\">\n",
              "<caption>A data.frame: 6 × 7</caption>\n",
              "<thead>\n",
              "\t<tr><th></th><th scope=col>Strategy</th><th scope=col>Date</th><th scope=col>Impressions</th><th scope=col>Completes</th><th scope=col>Clicks</th><th scope=col>Installs</th><th scope=col>eRPM</th></tr>\n",
              "\t<tr><th></th><th scope=col>&lt;chr&gt;</th><th scope=col>&lt;chr&gt;</th><th scope=col>&lt;dbl&gt;</th><th scope=col>&lt;dbl&gt;</th><th scope=col>&lt;dbl&gt;</th><th scope=col>&lt;dbl&gt;</th><th scope=col>&lt;dbl&gt;</th></tr>\n",
              "</thead>\n",
              "<tbody>\n",
              "\t<tr><th scope=row>1</th><td>Vungle A</td><td>1-Jun-14</td><td>6777407</td><td>5978434</td><td>345309</td><td>31119</td><td>3.33</td></tr>\n",
              "\t<tr><th scope=row>2</th><td>Vungle A</td><td>2-Jun-14</td><td>6004310</td><td>5331727</td><td>299732</td><td>24601</td><td>2.94</td></tr>\n",
              "\t<tr><th scope=row>3</th><td>Vungle A</td><td>3-Jun-14</td><td>5832627</td><td>5193549</td><td>291384</td><td>24220</td><td>3.03</td></tr>\n",
              "\t<tr><th scope=row>4</th><td>Vungle A</td><td>4-Jun-14</td><td>5875702</td><td>5227917</td><td>295099</td><td>23382</td><td>2.99</td></tr>\n",
              "\t<tr><th scope=row>5</th><td>Vungle A</td><td>5-Jun-14</td><td>6843405</td><td>6111378</td><td>339529</td><td>27725</td><td>3.08</td></tr>\n",
              "\t<tr><th scope=row>6</th><td>Vungle A</td><td>6-Jun-14</td><td>7790350</td><td>6981471</td><td>392987</td><td>31820</td><td>3.14</td></tr>\n",
              "</tbody>\n",
              "</table>\n"
            ],
            "text/latex": [
              "A data.frame: 6 × 7\n",
              "\\begin{tabular}{r|lllllll}\n",
              "  & Strategy & Date & Impressions & Completes & Clicks & Installs & eRPM\\\\\n",
              "  & <chr> & <chr> & <dbl> & <dbl> & <dbl> & <dbl> & <dbl>\\\\\n",
              "\\hline\n",
              "\t1 & Vungle A & 1-Jun-14 & 6777407 & 5978434 & 345309 & 31119 & 3.33\\\\\n",
              "\t2 & Vungle A & 2-Jun-14 & 6004310 & 5331727 & 299732 & 24601 & 2.94\\\\\n",
              "\t3 & Vungle A & 3-Jun-14 & 5832627 & 5193549 & 291384 & 24220 & 3.03\\\\\n",
              "\t4 & Vungle A & 4-Jun-14 & 5875702 & 5227917 & 295099 & 23382 & 2.99\\\\\n",
              "\t5 & Vungle A & 5-Jun-14 & 6843405 & 6111378 & 339529 & 27725 & 3.08\\\\\n",
              "\t6 & Vungle A & 6-Jun-14 & 7790350 & 6981471 & 392987 & 31820 & 3.14\\\\\n",
              "\\end{tabular}\n"
            ],
            "text/markdown": [
              "\n",
              "A data.frame: 6 × 7\n",
              "\n",
              "| <!--/--> | Strategy &lt;chr&gt; | Date &lt;chr&gt; | Impressions &lt;dbl&gt; | Completes &lt;dbl&gt; | Clicks &lt;dbl&gt; | Installs &lt;dbl&gt; | eRPM &lt;dbl&gt; |\n",
              "|---|---|---|---|---|---|---|---|\n",
              "| 1 | Vungle A | 1-Jun-14 | 6777407 | 5978434 | 345309 | 31119 | 3.33 |\n",
              "| 2 | Vungle A | 2-Jun-14 | 6004310 | 5331727 | 299732 | 24601 | 2.94 |\n",
              "| 3 | Vungle A | 3-Jun-14 | 5832627 | 5193549 | 291384 | 24220 | 3.03 |\n",
              "| 4 | Vungle A | 4-Jun-14 | 5875702 | 5227917 | 295099 | 23382 | 2.99 |\n",
              "| 5 | Vungle A | 5-Jun-14 | 6843405 | 6111378 | 339529 | 27725 | 3.08 |\n",
              "| 6 | Vungle A | 6-Jun-14 | 7790350 | 6981471 | 392987 | 31820 | 3.14 |\n",
              "\n"
            ],
            "text/plain": [
              "  Strategy Date     Impressions Completes Clicks Installs eRPM\n",
              "1 Vungle A 1-Jun-14 6777407     5978434   345309 31119    3.33\n",
              "2 Vungle A 2-Jun-14 6004310     5331727   299732 24601    2.94\n",
              "3 Vungle A 3-Jun-14 5832627     5193549   291384 24220    3.03\n",
              "4 Vungle A 4-Jun-14 5875702     5227917   295099 23382    2.99\n",
              "5 Vungle A 5-Jun-14 6843405     6111378   339529 27725    3.08\n",
              "6 Vungle A 6-Jun-14 7790350     6981471   392987 31820    3.14"
            ]
          },
          "metadata": {},
          "output_type": "display_data"
        },
        {
          "data": {
            "text/html": [
              "<table class=\"dataframe\">\n",
              "<caption>A data.frame: 6 × 7</caption>\n",
              "<thead>\n",
              "\t<tr><th></th><th scope=col>Strategy</th><th scope=col>Date</th><th scope=col>Impressions</th><th scope=col>Completes</th><th scope=col>Clicks</th><th scope=col>Installs</th><th scope=col>eRPM</th></tr>\n",
              "\t<tr><th></th><th scope=col>&lt;chr&gt;</th><th scope=col>&lt;chr&gt;</th><th scope=col>&lt;dbl&gt;</th><th scope=col>&lt;dbl&gt;</th><th scope=col>&lt;dbl&gt;</th><th scope=col>&lt;dbl&gt;</th><th scope=col>&lt;dbl&gt;</th></tr>\n",
              "</thead>\n",
              "<tbody>\n",
              "\t<tr><th scope=row>55</th><td>Vungle B</td><td>25-Jun-14</td><td>511505</td><td>451388</td><td>24894</td><td>1725</td><td>3.41</td></tr>\n",
              "\t<tr><th scope=row>56</th><td>Vungle B</td><td>26-Jun-14</td><td>508097</td><td>448333</td><td>25111</td><td>1773</td><td>3.72</td></tr>\n",
              "\t<tr><th scope=row>57</th><td>Vungle B</td><td>27-Jun-14</td><td>518004</td><td>457335</td><td>25832</td><td>1852</td><td>3.94</td></tr>\n",
              "\t<tr><th scope=row>58</th><td>Vungle B</td><td>28-Jun-14</td><td>562854</td><td>494686</td><td>28491</td><td>2041</td><td>4.07</td></tr>\n",
              "\t<tr><th scope=row>59</th><td>Vungle B</td><td>29-Jun-14</td><td>583732</td><td>510194</td><td>29483</td><td>2168</td><td>4.05</td></tr>\n",
              "\t<tr><th scope=row>60</th><td>Vungle B</td><td>30-Jun-14</td><td>537433</td><td>470054</td><td>26669</td><td>1910</td><td>3.69</td></tr>\n",
              "</tbody>\n",
              "</table>\n"
            ],
            "text/latex": [
              "A data.frame: 6 × 7\n",
              "\\begin{tabular}{r|lllllll}\n",
              "  & Strategy & Date & Impressions & Completes & Clicks & Installs & eRPM\\\\\n",
              "  & <chr> & <chr> & <dbl> & <dbl> & <dbl> & <dbl> & <dbl>\\\\\n",
              "\\hline\n",
              "\t55 & Vungle B & 25-Jun-14 & 511505 & 451388 & 24894 & 1725 & 3.41\\\\\n",
              "\t56 & Vungle B & 26-Jun-14 & 508097 & 448333 & 25111 & 1773 & 3.72\\\\\n",
              "\t57 & Vungle B & 27-Jun-14 & 518004 & 457335 & 25832 & 1852 & 3.94\\\\\n",
              "\t58 & Vungle B & 28-Jun-14 & 562854 & 494686 & 28491 & 2041 & 4.07\\\\\n",
              "\t59 & Vungle B & 29-Jun-14 & 583732 & 510194 & 29483 & 2168 & 4.05\\\\\n",
              "\t60 & Vungle B & 30-Jun-14 & 537433 & 470054 & 26669 & 1910 & 3.69\\\\\n",
              "\\end{tabular}\n"
            ],
            "text/markdown": [
              "\n",
              "A data.frame: 6 × 7\n",
              "\n",
              "| <!--/--> | Strategy &lt;chr&gt; | Date &lt;chr&gt; | Impressions &lt;dbl&gt; | Completes &lt;dbl&gt; | Clicks &lt;dbl&gt; | Installs &lt;dbl&gt; | eRPM &lt;dbl&gt; |\n",
              "|---|---|---|---|---|---|---|---|\n",
              "| 55 | Vungle B | 25-Jun-14 | 511505 | 451388 | 24894 | 1725 | 3.41 |\n",
              "| 56 | Vungle B | 26-Jun-14 | 508097 | 448333 | 25111 | 1773 | 3.72 |\n",
              "| 57 | Vungle B | 27-Jun-14 | 518004 | 457335 | 25832 | 1852 | 3.94 |\n",
              "| 58 | Vungle B | 28-Jun-14 | 562854 | 494686 | 28491 | 2041 | 4.07 |\n",
              "| 59 | Vungle B | 29-Jun-14 | 583732 | 510194 | 29483 | 2168 | 4.05 |\n",
              "| 60 | Vungle B | 30-Jun-14 | 537433 | 470054 | 26669 | 1910 | 3.69 |\n",
              "\n"
            ],
            "text/plain": [
              "   Strategy Date      Impressions Completes Clicks Installs eRPM\n",
              "55 Vungle B 25-Jun-14 511505      451388    24894  1725     3.41\n",
              "56 Vungle B 26-Jun-14 508097      448333    25111  1773     3.72\n",
              "57 Vungle B 27-Jun-14 518004      457335    25832  1852     3.94\n",
              "58 Vungle B 28-Jun-14 562854      494686    28491  2041     4.07\n",
              "59 Vungle B 29-Jun-14 583732      510194    29483  2168     4.05\n",
              "60 Vungle B 30-Jun-14 537433      470054    26669  1910     3.69"
            ]
          },
          "metadata": {},
          "output_type": "display_data"
        }
      ],
      "source": [
        "df = read.csv('case_study_AB_testing_at_Vungle.csv')\n",
        "head(df)\n",
        "tail(df)"
      ]
    },
    {
      "cell_type": "markdown",
      "id": "3e1da920",
      "metadata": {
        "id": "3e1da920"
      },
      "source": [
        "### 1) What are the treatment indicator, Response variables and baseline variables (if any)?"
      ]
    },
    {
      "cell_type": "markdown",
      "id": "475047f0",
      "metadata": {
        "id": "475047f0"
      },
      "source": [
        "Treatment Indicator - Strategy\n",
        "\n",
        "Reponse variables - Impressions, Completes, Clicks, Installs, eRPM\n",
        "\n",
        "Baseline variables - None"
      ]
    },
    {
      "cell_type": "markdown",
      "id": "465157b1",
      "metadata": {
        "id": "465157b1"
      },
      "source": [
        "### 2)\tHow were the users assigned to algorithm A and B? What was the proportion of the users assigned to each group?\n",
        "\n",
        "Using MD5 hashing algorithm\n",
        "\n",
        "An MD5 hash transforms each user ID into a unique 32-character hexadecimal string. Each character of the hexadecimal string could be 0–9, A, B, C, D, E, or F—16 options in total. Each character occurred with equal likelihood, making it simple for Vungle to direct traffic in 1/16th increments using a logic statement (assuming that the original string was random).\n",
        "\n",
        "Algorithm A -> 15/16th of users\n",
        "\n",
        "Algorithm B -> 1/16th of users"
      ]
    },
    {
      "cell_type": "markdown",
      "id": "96873442",
      "metadata": {
        "id": "96873442"
      },
      "source": [
        "### 3) Which metric would be a good choice to measure the effectiveness of the app-promotion campaign and the success of the serving platform?\n",
        "\n",
        "eRPM (effective revenue) per 1,000 impressions"
      ]
    },
    {
      "cell_type": "markdown",
      "id": "ffcb06fe",
      "metadata": {
        "id": "ffcb06fe"
      },
      "source": [
        "### 4) What is the additional value provided by the new algorithm compared to the old algorithm in a month?"
      ]
    },
    {
      "cell_type": "code",
      "execution_count": null,
      "id": "5b80e41e-986c-4f1f-b05e-f8e6eb3a2947",
      "metadata": {
        "id": "5b80e41e-986c-4f1f-b05e-f8e6eb3a2947",
        "outputId": "ac8719df-bcc3-43c1-eacb-0d4e90dd6fd9"
      },
      "outputs": [
        {
          "data": {
            "text/html": [
              "34611.3115084167"
            ],
            "text/latex": [
              "34611.3115084167"
            ],
            "text/markdown": [
              "34611.3115084167"
            ],
            "text/plain": [
              "[1] 34611.31"
            ]
          },
          "metadata": {},
          "output_type": "display_data"
        }
      ],
      "source": [
        "# approach 1\n",
        "\n",
        "# if all the users were exposed with Algorithm B\n",
        "impressions_B_all_users = 16*sum(df[df$Strategy=='Vungle B',3])\n",
        "\n",
        "# eRPM from Algorithm B\n",
        "eRPM_B_all_users = mean(df[df$Strategy=='Vungle B',7])*impressions_B_all_users/1000\n",
        "\n",
        "# if all the users were exposed with Algorithm A\n",
        "impressions_A_all_users = sum(df[df$Strategy=='Vungle A',3]) + (1/16)*sum(df[df$Strategy=='Vungle A',3])\n",
        "\n",
        "# eRPM from Algorithm A\n",
        "eRPM_A_all_users = mean(df[df$Strategy=='Vungle A',7])*impressions_A_all_users/1000\n",
        "\n",
        "# additional value provided by the new algorithm\n",
        "additional_value_of_B = eRPM_B_all_users - eRPM_A_all_users\n",
        "additional_value_of_B"
      ]
    },
    {
      "cell_type": "markdown",
      "id": "545e54ea",
      "metadata": {
        "id": "545e54ea"
      },
      "source": [
        "OR"
      ]
    },
    {
      "cell_type": "code",
      "execution_count": null,
      "id": "8e771ba5",
      "metadata": {
        "id": "8e771ba5",
        "outputId": "797d8b09-644c-4fc4-af72-fd3b168fd8f4"
      },
      "outputs": [
        {
          "data": {
            "text/html": [
              "27919.515432"
            ],
            "text/latex": [
              "27919.515432"
            ],
            "text/markdown": [
              "27919.515432"
            ],
            "text/plain": [
              "[1] 27919.52"
            ]
          },
          "metadata": {},
          "output_type": "display_data"
        }
      ],
      "source": [
        "# approach 2\n",
        "\n",
        "avg_daily_eRPM = mean(df[df$Strategy=='Vungle B',7] - df[df$Strategy=='Vungle A',7])\n",
        "\n",
        "total_impressions = sum(df[df$Strategy=='Vungle B',3] + df[df$Strategy=='Vungle A',3])\n",
        "\n",
        "additional_value_from_B = total_impressions/1000 * avg_daily_eRPM\n",
        "\n",
        "additional_value_from_B"
      ]
    },
    {
      "cell_type": "markdown",
      "id": "7227710d",
      "metadata": {
        "id": "7227710d"
      },
      "source": [
        "### 5)\tWhat assumptions did you make to answer question 4?\n",
        "\n",
        "* There is no selection bias between the two user groups, i.e., in average, they are identical to eachother.\n",
        "* (approach 1) If we run algorithm A on the whole users instead of to 15/16th of the users, the business metrics like Impressions, Clicks, Installs, etc. will scale proportionally. This will apply for algorithm B as well if it were run on the whole users.\n",
        "* (approach 2) Sum of total impressions from algorithm A and B is a fair representation of the total impressions for algorithm B if it were run on the whole users."
      ]
    },
    {
      "cell_type": "markdown",
      "id": "48188f05",
      "metadata": {
        "id": "48188f05"
      },
      "source": [
        "### 6)\tAssuming all months are like June, can we expect positive benefits from the new algorithm in future months as well?"
      ]
    },
    {
      "cell_type": "markdown",
      "id": "0e0410f5",
      "metadata": {
        "id": "0e0410f5"
      },
      "source": [
        "* **a)\tUse 2-sample t-test of difference of means of eRPM to support your answer.**"
      ]
    },
    {
      "cell_type": "code",
      "execution_count": null,
      "id": "b8ee22b3",
      "metadata": {
        "id": "b8ee22b3",
        "outputId": "c66d2886-e31e-4508-c504-a5f413390681"
      },
      "outputs": [
        {
          "data": {
            "text/plain": [
              "\n",
              "\tWelch Two Sample t-test\n",
              "\n",
              "data:  df[df$Strategy == \"Vungle B\", 7] and df[df$Strategy == \"Vungle A\", 7]\n",
              "t = 1.492, df = 48.739, p-value = 0.1421\n",
              "alternative hypothesis: true difference in means is not equal to 0\n",
              "95 percent confidence interval:\n",
              " -0.03840841  0.25974174\n",
              "sample estimates:\n",
              "mean of x mean of y \n",
              " 3.459333  3.348667 \n"
            ]
          },
          "metadata": {},
          "output_type": "display_data"
        }
      ],
      "source": [
        "t.test(df[df$Strategy=='Vungle B',7], df[df$Strategy=='Vungle A',7])"
      ]
    },
    {
      "cell_type": "markdown",
      "id": "55791a13",
      "metadata": {
        "id": "55791a13"
      },
      "source": [
        "We cannot reject the null hypothesis that there is no difference in the means. Thus, based on the results from 2-sample t-test of difference of means of eRPM, we **cannot** expect positive benefits form the new algorithm in future months."
      ]
    },
    {
      "cell_type": "markdown",
      "id": "bddf31eb",
      "metadata": {
        "id": "bddf31eb"
      },
      "source": [
        "* **b)\tUse paired t-test for the difference of means of eRPM to support your answer.**"
      ]
    },
    {
      "cell_type": "code",
      "execution_count": null,
      "id": "2088b647",
      "metadata": {
        "id": "2088b647",
        "outputId": "a9a770ea-6875-4605-e7d3-8020d0b3f231"
      },
      "outputs": [
        {
          "data": {
            "text/plain": [
              "\n",
              "\tPaired t-test\n",
              "\n",
              "data:  df[df$Strategy == \"Vungle B\", 7] and df[df$Strategy == \"Vungle A\", 7]\n",
              "t = 3.2837, df = 29, p-value = 0.002677\n",
              "alternative hypothesis: true mean difference is not equal to 0\n",
              "95 percent confidence interval:\n",
              " 0.04173767 0.17959566\n",
              "sample estimates:\n",
              "mean difference \n",
              "      0.1106667 \n"
            ]
          },
          "metadata": {},
          "output_type": "display_data"
        }
      ],
      "source": [
        "t.test(df[df$Strategy=='Vungle B',7], df[df$Strategy=='Vungle A',7], paired = TRUE)"
      ]
    },
    {
      "cell_type": "markdown",
      "id": "8d7a7354",
      "metadata": {
        "id": "8d7a7354"
      },
      "source": [
        "The p-value for the paired t-test is less than 0.05, so we have enough evidence to reject the null hypothesis. Thus, there is a statistical difference between the eRPM from Algorithm B and Algorithm A. And since the mean difference of eRPM between algorithm B and algorithm A is positive, we can say that Algorithm B is better than Algorithm A."
      ]
    },
    {
      "cell_type": "markdown",
      "id": "0bf01f29",
      "metadata": {
        "id": "0bf01f29"
      },
      "source": [
        "* **c)\tDo you get the same conclusion from a. and b.?**"
      ]
    },
    {
      "cell_type": "markdown",
      "id": "a837d424",
      "metadata": {
        "id": "a837d424"
      },
      "source": [
        "No, the conclusions from 2-sample t-test and paired t-test for the difference of means of eRPM are not the same. 2-sample t-test concludes that there is no statistical difference between Algorithm A and B, while paired t-test concludes that Algorithm B is better than Algorithm A."
      ]
    },
    {
      "cell_type": "markdown",
      "id": "5c6ed24f",
      "metadata": {
        "id": "5c6ed24f"
      },
      "source": [
        "* **d)\tWhich test (2-sample t-test vs paired t-test) would be more appropriate in the given situation and why?**"
      ]
    },
    {
      "cell_type": "markdown",
      "id": "9546cf98",
      "metadata": {
        "id": "9546cf98"
      },
      "source": [
        "Paired t-test would be more appropriate for the situation.\n",
        "\n",
        "Even though we have two groups of users (users exposed with Algorithm A and users exposed with Algorithm B), they are, for our purpose, identical in average because the users were randomly assigned to group A or B. In average all the features between these two group, expect for the exposure of the algorithm, are the same. Thus, the two observations of metrics on each day can be considered as paired."
      ]
    },
    {
      "cell_type": "markdown",
      "id": "a4e4f521",
      "metadata": {
        "id": "a4e4f521"
      },
      "source": [
        "### 7)\tCompute the conversion rates for algorithm A and B (refer to Figure 1. in the case study for the definition of conversion rate)?"
      ]
    },
    {
      "cell_type": "code",
      "execution_count": null,
      "id": "29256d2c",
      "metadata": {
        "id": "29256d2c",
        "outputId": "369be773-1dda-4e33-a5c5-670ddddbc0de"
      },
      "outputs": [
        {
          "name": "stdout",
          "output_type": "stream",
          "text": [
            "Conversion rate of A: 0.004024649 \n",
            "Conversion rate of B: 0.003540579"
          ]
        }
      ],
      "source": [
        "total_installs_A = sum(df[df$Strategy=='Vungle A',6])\n",
        "total_installs_B = sum(df[df$Strategy=='Vungle B',6])\n",
        "total_impressions_A = sum(df[df$Strategy=='Vungle A',3])\n",
        "total_impressions_B = sum(df[df$Strategy=='Vungle B',3])\n",
        "\n",
        "conversion_rate_A = total_installs_A / total_impressions_A\n",
        "cat('Conversion rate of A:', conversion_rate_A , '\\n')\n",
        "conversion_rate_B = total_installs_B / total_impressions_B\n",
        "cat('Conversion rate of B:', conversion_rate_B)"
      ]
    },
    {
      "cell_type": "markdown",
      "id": "56e574e0",
      "metadata": {
        "id": "56e574e0"
      },
      "source": [
        "### 8) Which algorithm is better based on the conversion rates? Use proportions test to support your answer."
      ]
    },
    {
      "cell_type": "code",
      "execution_count": null,
      "id": "65d86e10-3b71-4de1-94d6-bb9d94648b2f",
      "metadata": {
        "id": "65d86e10-3b71-4de1-94d6-bb9d94648b2f",
        "outputId": "8311ba55-7971-494b-ef88-89bd92968f7e"
      },
      "outputs": [
        {
          "data": {
            "text/plain": [
              "\n",
              "\t2-sample test for equality of proportions without continuity correction\n",
              "\n",
              "data:  c(total_installs_A, total_installs_B) out of c(total_impressions_A, total_impressions_B)\n",
              "X-squared = 873.64, df = 1, p-value < 2.2e-16\n",
              "alternative hypothesis: two.sided\n",
              "95 percent confidence interval:\n",
              " 0.0004537127 0.0005144257\n",
              "sample estimates:\n",
              "     prop 1      prop 2 \n",
              "0.004024649 0.003540579 \n"
            ]
          },
          "metadata": {},
          "output_type": "display_data"
        }
      ],
      "source": [
        "prop.test(c(total_installs_A, total_installs_B), c(total_impressions_A, total_impressions_B), correct = FALSE)"
      ]
    },
    {
      "cell_type": "markdown",
      "id": "8dcd271a",
      "metadata": {
        "id": "8dcd271a"
      },
      "source": [
        "The p-value of the proportions test on the conversion rates is less than 0.05. Thus, we can reject the null hypothesis that there is no difference between the proportions of the conversion rates from Algorithm A and Algorithm B. Since coversion rate of Algorithm A be larger than that of Algorithm B, we can conclude that Algorithm A better than Algorithm B (based on Coversion rates)."
      ]
    },
    {
      "cell_type": "markdown",
      "id": "fb243372",
      "metadata": {
        "id": "fb243372"
      },
      "source": [
        "### 9)\tThe additional monthly operating cost of Algorithm B compared to Algorithm A is $2000. Use the confidence interval from the paired t-test in question 6.b. to decide whether Algorithm B should replace Algorithm A."
      ]
    },
    {
      "cell_type": "markdown",
      "id": "769a4bde",
      "metadata": {
        "id": "769a4bde"
      },
      "source": [
        "From the paired t-test above, the Confidence interval is [0.04173767 , 0.17959566]\n",
        "\n",
        "We can use the lower bound of the confidence interval to calculate the minimum lift we can expect from Algorithm B."
      ]
    },
    {
      "cell_type": "code",
      "execution_count": null,
      "id": "72253751",
      "metadata": {
        "id": "72253751",
        "outputId": "cd388efc-a1cb-4e4f-d17b-187d7bcb01ee"
      },
      "outputs": [
        {
          "data": {
            "text/html": [
              "10568.2291378227"
            ],
            "text/latex": [
              "10568.2291378227"
            ],
            "text/markdown": [
              "10568.2291378227"
            ],
            "text/plain": [
              "[1] 10568.23"
            ]
          },
          "metadata": {},
          "output_type": "display_data"
        }
      ],
      "source": [
        "# approach 1\n",
        "lower_bound_additional_income_B = 0.04173767 * impressions_B_all_users / 1000\n",
        "lower_bound_additional_income_B"
      ]
    },
    {
      "cell_type": "markdown",
      "id": "4fcb989b",
      "metadata": {
        "id": "4fcb989b"
      },
      "source": [
        "OR"
      ]
    },
    {
      "cell_type": "code",
      "execution_count": null,
      "id": "bb2711ec",
      "metadata": {
        "id": "bb2711ec",
        "outputId": "b5f269a3-716e-47cb-c7e1-a57730eba2d8"
      },
      "outputs": [
        {
          "data": {
            "text/html": [
              "10529.7788101873"
            ],
            "text/latex": [
              "10529.7788101873"
            ],
            "text/markdown": [
              "10529.7788101873"
            ],
            "text/plain": [
              "[1] 10529.78"
            ]
          },
          "metadata": {},
          "output_type": "display_data"
        }
      ],
      "source": [
        "# approach 2\n",
        "lower_bound_additional_income_B = 0.04173767 * total_impressions / 1000\n",
        "lower_bound_additional_income_B"
      ]
    },
    {
      "cell_type": "markdown",
      "id": "451b8873",
      "metadata": {
        "id": "451b8873"
      },
      "source": [
        "The minimum lift we get from Algorithm B is more than 10500 dollars, while it only costs additional 2000 dollars to maintain. Thus, we should definitely replace Algorithm A by Algorithm B (>8500 dollars additional revenue per month)."
      ]
    },
    {
      "cell_type": "code",
      "execution_count": null,
      "id": "220f14fc",
      "metadata": {
        "id": "220f14fc"
      },
      "outputs": [],
      "source": []
    }
  ],
  "metadata": {
    "kernelspec": {
      "display_name": "R",
      "language": "R",
      "name": "ir"
    },
    "language_info": {
      "codemirror_mode": "r",
      "file_extension": ".r",
      "mimetype": "text/x-r-source",
      "name": "R",
      "pygments_lexer": "r",
      "version": "4.2.1"
    },
    "colab": {
      "provenance": [],
      "include_colab_link": true
    }
  },
  "nbformat": 4,
  "nbformat_minor": 5
}